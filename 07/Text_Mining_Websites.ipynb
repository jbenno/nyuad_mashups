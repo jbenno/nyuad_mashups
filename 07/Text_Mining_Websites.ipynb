{
 "cells": [
  {
   "cell_type": "markdown",
   "metadata": {},
   "source": [
    "# Scraping"
   ]
  },
  {
   "cell_type": "markdown",
   "metadata": {},
   "source": [
    "#### Look at the Links"
   ]
  },
  {
   "cell_type": "code",
   "execution_count": null,
   "metadata": {
    "scrolled": true
   },
   "outputs": [],
   "source": [
    "from bs4 import BeautifulSoup # the library that provides the HTTP calls etc.\n",
    "from urllib.request import urlopen\n",
    "\n",
    "\n",
    "url = \"https://ai.google/research/pubs/?year=2019\" # The url we want to scrape\n",
    "raw = urlopen(url).read() # open the page and get the html\n",
    "soup = BeautifulSoup(raw ,\"html.parser\") # parse html\n",
    "links = [l.get(\"href\") for l in soup.find_all(\"a\")] # identify the links\n",
    "links = [l for l in links if (l is not None)] # filter the empty links\n",
    "\n",
    "\n",
    "links"
   ]
  },
  {
   "cell_type": "code",
   "execution_count": null,
   "metadata": {},
   "outputs": [],
   "source": [
    "j=47700 \n",
    "paperLinks = []\n",
    "\n",
    "for i in range(30):\n",
    "    paperLinks.append(\"https://ai.google/research/pubs/pub\" + str(j))\n",
    "    j=j+1\n",
    "    \n",
    "    \n",
    "paperLinks"
   ]
  },
  {
   "cell_type": "markdown",
   "metadata": {},
   "source": [
    "#### Get the titles and abstracts"
   ]
  },
  {
   "cell_type": "code",
   "execution_count": null,
   "metadata": {},
   "outputs": [],
   "source": [
    "from bs4 import BeautifulSoup\n",
    "import urllib.request\n",
    "title = list()\n",
    "abstract = list()\n",
    "\n",
    "import ssl\n",
    "\n",
    "ssl._create_default_https_context = ssl._create_unverified_context\n",
    "\n",
    "for l in paperLinks:\n",
    "    try:\n",
    "        html = urllib.request.urlopen(l)\n",
    "    except Exception as e:\n",
    "        print(e)\n",
    "    else:\n",
    "        for l in paperLinks:\n",
    "            raw = html.read() \n",
    "            soup = BeautifulSoup(raw) \n",
    "            title = title + [t.string.strip() for t in soup.find_all(\"h1\", class_=\"meta--publication__title\")]\n",
    "            try:\n",
    "                abstract = abstract + [a.string.strip() for a in soup.find_all(\"p\")]\n",
    "            except Exception as e:\n",
    "                print(e)\n",
    "                continue"
   ]
  },
  {
   "cell_type": "code",
   "execution_count": null,
   "metadata": {},
   "outputs": [],
   "source": [
    "abstract"
   ]
  },
  {
   "cell_type": "code",
   "execution_count": null,
   "metadata": {},
   "outputs": [],
   "source": [
    "papers = list(zip(title, abstract))\n",
    "print(papers)"
   ]
  },
  {
   "cell_type": "code",
   "execution_count": null,
   "metadata": {},
   "outputs": [],
   "source": [
    "\n",
    "words = [ w.lower() for t in abstract for w in t.split() ]\n",
    "\n",
    "words[:10]"
   ]
  },
  {
   "cell_type": "code",
   "execution_count": null,
   "metadata": {},
   "outputs": [],
   "source": [
    "import nltk\n",
    "nltk.download('punkt')"
   ]
  },
  {
   "cell_type": "code",
   "execution_count": null,
   "metadata": {},
   "outputs": [],
   "source": [
    "stop = nltk.corpus.stopwords.words('english')\n",
    "words_without_stopwords = [i for i in words if i not in stop]\n",
    "print (words_without_stopwords[:10])"
   ]
  },
  {
   "cell_type": "code",
   "execution_count": null,
   "metadata": {},
   "outputs": [],
   "source": [
    "from nltk.collocations import *\n",
    "bigram_measures = nltk.collocations.BigramAssocMeasures()\n",
    "\n",
    "\n",
    "raw = \" \".join(title)\n",
    "tokens = nltk.word_tokenize(raw)\n",
    "text = nltk.Text(tokens)\n",
    "\n",
    "finder = BigramCollocationFinder.from_words(text)\n",
    "finder.nbest(bigram_measures.pmi, 10)"
   ]
  },
  {
   "cell_type": "code",
   "execution_count": null,
   "metadata": {},
   "outputs": [],
   "source": [
    "from prettytable import PrettyTable\n",
    "from collections import Counter \n",
    "\n",
    "porter = nltk.PorterStemmer()\n",
    "text_stemmed = [porter.stem(t).lower() for t in tokens if t not in stop]\n",
    "\n",
    "pt = PrettyTable(field_names=['Stem', 'Frequency']) \n",
    "c = Counter(text_stemmed)\n",
    "[ pt.add_row(kv) for kv in c.most_common()[:20] ]\n",
    "pt.align['Wortstamm'], pt.align['Häufigkeit'] = 'l', 'r' # Set column alignment\n",
    "print(pt)"
   ]
  },
  {
   "cell_type": "code",
   "execution_count": null,
   "metadata": {},
   "outputs": [],
   "source": [
    "import nltk\n",
    "nltk.download('wordnet')"
   ]
  },
  {
   "cell_type": "code",
   "execution_count": null,
   "metadata": {},
   "outputs": [],
   "source": [
    "from prettytable import PrettyTable\n",
    "\n",
    "# Lemmatisierung benötigt den nltk Corpus \"wordnet\"\n",
    "# Installieren mit nltk.download() in der ipython-Shell\n",
    "\n",
    "wnl = nltk.WordNetLemmatizer()\n",
    "tokens_lower = [w.lower() for w in tokens]\n",
    "text_lemmata = [wnl.lemmatize(t) for t in tokens_lower if t not in stop]\n",
    "\n",
    "# Satzzeichen entfernen\n",
    "text_lemmata = filter(lambda word: word not in ',-:', text_lemmata)\n",
    "\n",
    "pt = PrettyTable(field_names=['Lemma', 'Häufigkeit']) \n",
    "c = Counter(text_lemmata)\n",
    "[ pt.add_row(kv) for kv in c.most_common()[:20] ]\n",
    "pt.align['Wortstamm'], pt.align['Häufigkeit'] = 'l', 'r' # Set column alignment\n",
    "print(pt)"
   ]
  },
  {
   "cell_type": "code",
   "execution_count": null,
   "metadata": {},
   "outputs": [],
   "source": [
    "text.concordance('learning')"
   ]
  },
  {
   "cell_type": "code",
   "execution_count": null,
   "metadata": {},
   "outputs": [],
   "source": [
    "print(text.similar(\"\"))"
   ]
  },
  {
   "cell_type": "code",
   "execution_count": null,
   "metadata": {},
   "outputs": [],
   "source": [
    "print(len(abstract))\n",
    "abstracts = list()\n",
    "number = 1000 # number of abstracts to download\n",
    "\n",
    "for l in abstract[:number]:\n",
    "    raw = urllib2.urlopen(\"http://research.google.com\" + l).read() # Seite öffnen und herunterladen\n",
    "    soup = BeautifulSoup(raw) # Seite in HTML-Parser einlesen\n",
    "    abstracts = abstracts + [t.text.strip().lower() for t in (td.find('div') for td in soup.findAll('div', class_=\"maia-col-8\")) if a] # Überschriften stehen in pub-title\n",
    "   \n",
    "textfile = \"\\n\".join(abstracts)\n",
    "tokens = nltk.word_tokenize(textfile)\n",
    "text = nltk.Text(tokens)\n",
    "text_clean = [word for word in text if word not in ',-:()']\n",
    "\n",
    "print \"Done.\""
   ]
  },
  {
   "cell_type": "code",
   "execution_count": null,
   "metadata": {},
   "outputs": [],
   "source": []
  }
 ],
 "metadata": {
  "kernelspec": {
   "display_name": "Python 3",
   "language": "python",
   "name": "python3"
  },
  "language_info": {
   "codemirror_mode": {
    "name": "ipython",
    "version": 3
   },
   "file_extension": ".py",
   "mimetype": "text/x-python",
   "name": "python",
   "nbconvert_exporter": "python",
   "pygments_lexer": "ipython3",
   "version": "3.8.0"
  }
 },
 "nbformat": 4,
 "nbformat_minor": 1
}
