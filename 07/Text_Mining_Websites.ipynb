{
 "cells": [
  {
   "cell_type": "markdown",
   "metadata": {},
   "source": [
    "# Scraping"
   ]
  },
  {
   "cell_type": "markdown",
   "metadata": {},
   "source": [
    "#### Look at the Links"
   ]
  },
  {
   "cell_type": "code",
   "execution_count": null,
   "metadata": {
    "scrolled": true
   },
   "outputs": [],
   "source": [
    "from bs4 import BeautifulSoup # the library that provides the HTTP calls etc.\n",
    "import urllib2\n",
    "\n",
    "# Einsammeln der Links\n",
    "url = \"https://ai.google/research/pubs/?year=2019\" # The url we want to scrape\n",
    "raw = urllib2.urlopen(url).read() # open the page and get the html\n",
    "soup = BeautifulSoup(raw ,\"html.parser\") # parse html\n",
    "links = [l.get(\"href\") for l in soup.find_all(\"a\")] # identify the links\n",
    "links = [l for l in links if (l is not None)] # filter the empty links\n",
    "\n",
    "\n",
    "links"
   ]
  },
  {
   "cell_type": "code",
   "execution_count": null,
   "metadata": {},
   "outputs": [],
   "source": [
    "j=48000 \n",
    "paperLinks = range(100)\n",
    "\n",
    "for i in range(0,100):\n",
    "    paperLinks[i]=\"https://ai.google/research/pubs/pub\" + str(j)\n",
    "    j=j+1\n",
    "    i=i+1\n",
    "    \n",
    "paperLinks"
   ]
  },
  {
   "cell_type": "markdown",
   "metadata": {},
   "source": [
    "#### Get the titles and abstracts"
   ]
  },
  {
   "cell_type": "code",
   "execution_count": null,
   "metadata": {},
   "outputs": [],
   "source": [
    "title = list()\n",
    "abstract = list()\n",
    "\n",
    "\n",
    "for l in paperLinks:\n",
    "    try:\n",
    "        html = urllib2.urlopen(l)\n",
    "    except Exception as e:\n",
    "        continue\n",
    "    else:\n",
    "        for l in paperLinks:\n",
    "            raw = html.read() \n",
    "            soup = BeautifulSoup(raw) \n",
    "            title = title + [t.string.strip() for t in soup.find_all(\"h1\", class_=\"meta--publication__title\")]\n",
    "            abstract = abstract + [a.string.strip() for a in soup.find_all(\"p\")]\n",
    "\n",
    "title"
   ]
  },
  {
   "cell_type": "code",
   "execution_count": null,
   "metadata": {},
   "outputs": [],
   "source": [
    "papers = zip(title, abstract)\n",
    "print papers[:10]"
   ]
  },
  {
   "cell_type": "code",
   "execution_count": null,
   "metadata": {},
   "outputs": [],
   "source": []
  }
 ],
 "metadata": {
  "kernelspec": {
   "display_name": "Python 2",
   "language": "python",
   "name": "python2"
  },
  "language_info": {
   "codemirror_mode": {
    "name": "ipython",
    "version": 2
   },
   "file_extension": ".py",
   "mimetype": "text/x-python",
   "name": "python",
   "nbconvert_exporter": "python",
   "pygments_lexer": "ipython2",
   "version": "2.7.16"
  }
 },
 "nbformat": 4,
 "nbformat_minor": 1
}
